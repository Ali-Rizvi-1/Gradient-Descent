{
 "cells": [
  {
   "cell_type": "code",
   "execution_count": 2,
   "metadata": {},
   "outputs": [],
   "source": [
    "import pandas as pd\n",
    "\n",
    "data = pd.read_csv(\"LinearRegressionData.csv\")"
   ]
  },
  {
   "cell_type": "code",
   "execution_count": 2,
   "metadata": {},
   "outputs": [
    {
     "data": {
      "text/html": [
       "<div>\n",
       "<style scoped>\n",
       "    .dataframe tbody tr th:only-of-type {\n",
       "        vertical-align: middle;\n",
       "    }\n",
       "\n",
       "    .dataframe tbody tr th {\n",
       "        vertical-align: top;\n",
       "    }\n",
       "\n",
       "    .dataframe thead th {\n",
       "        text-align: right;\n",
       "    }\n",
       "</style>\n",
       "<table border=\"1\" class=\"dataframe\">\n",
       "  <thead>\n",
       "    <tr style=\"text-align: right;\">\n",
       "      <th></th>\n",
       "      <th>SAT</th>\n",
       "      <th>GPA</th>\n",
       "    </tr>\n",
       "  </thead>\n",
       "  <tbody>\n",
       "    <tr>\n",
       "      <th>0</th>\n",
       "      <td>1714</td>\n",
       "      <td>2.40</td>\n",
       "    </tr>\n",
       "    <tr>\n",
       "      <th>1</th>\n",
       "      <td>1664</td>\n",
       "      <td>2.52</td>\n",
       "    </tr>\n",
       "    <tr>\n",
       "      <th>2</th>\n",
       "      <td>1760</td>\n",
       "      <td>2.54</td>\n",
       "    </tr>\n",
       "    <tr>\n",
       "      <th>3</th>\n",
       "      <td>1685</td>\n",
       "      <td>2.74</td>\n",
       "    </tr>\n",
       "    <tr>\n",
       "      <th>4</th>\n",
       "      <td>1693</td>\n",
       "      <td>2.83</td>\n",
       "    </tr>\n",
       "  </tbody>\n",
       "</table>\n",
       "</div>"
      ],
      "text/plain": [
       "    SAT   GPA\n",
       "0  1714  2.40\n",
       "1  1664  2.52\n",
       "2  1760  2.54\n",
       "3  1685  2.74\n",
       "4  1693  2.83"
      ]
     },
     "execution_count": 2,
     "metadata": {},
     "output_type": "execute_result"
    }
   ],
   "source": [
    "data.head()"
   ]
  },
  {
   "cell_type": "code",
   "execution_count": 3,
   "metadata": {},
   "outputs": [
    {
     "data": {
      "text/html": [
       "<div>\n",
       "<style scoped>\n",
       "    .dataframe tbody tr th:only-of-type {\n",
       "        vertical-align: middle;\n",
       "    }\n",
       "\n",
       "    .dataframe tbody tr th {\n",
       "        vertical-align: top;\n",
       "    }\n",
       "\n",
       "    .dataframe thead th {\n",
       "        text-align: right;\n",
       "    }\n",
       "</style>\n",
       "<table border=\"1\" class=\"dataframe\">\n",
       "  <thead>\n",
       "    <tr style=\"text-align: right;\">\n",
       "      <th></th>\n",
       "      <th>SAT</th>\n",
       "    </tr>\n",
       "  </thead>\n",
       "  <tbody>\n",
       "    <tr>\n",
       "      <th>0</th>\n",
       "      <td>1714</td>\n",
       "    </tr>\n",
       "    <tr>\n",
       "      <th>1</th>\n",
       "      <td>1664</td>\n",
       "    </tr>\n",
       "    <tr>\n",
       "      <th>2</th>\n",
       "      <td>1760</td>\n",
       "    </tr>\n",
       "    <tr>\n",
       "      <th>3</th>\n",
       "      <td>1685</td>\n",
       "    </tr>\n",
       "    <tr>\n",
       "      <th>4</th>\n",
       "      <td>1693</td>\n",
       "    </tr>\n",
       "    <tr>\n",
       "      <th>...</th>\n",
       "      <td>...</td>\n",
       "    </tr>\n",
       "    <tr>\n",
       "      <th>79</th>\n",
       "      <td>1936</td>\n",
       "    </tr>\n",
       "    <tr>\n",
       "      <th>80</th>\n",
       "      <td>1810</td>\n",
       "    </tr>\n",
       "    <tr>\n",
       "      <th>81</th>\n",
       "      <td>1987</td>\n",
       "    </tr>\n",
       "    <tr>\n",
       "      <th>82</th>\n",
       "      <td>1962</td>\n",
       "    </tr>\n",
       "    <tr>\n",
       "      <th>83</th>\n",
       "      <td>2050</td>\n",
       "    </tr>\n",
       "  </tbody>\n",
       "</table>\n",
       "<p>84 rows × 1 columns</p>\n",
       "</div>"
      ],
      "text/plain": [
       "     SAT\n",
       "0   1714\n",
       "1   1664\n",
       "2   1760\n",
       "3   1685\n",
       "4   1693\n",
       "..   ...\n",
       "79  1936\n",
       "80  1810\n",
       "81  1987\n",
       "82  1962\n",
       "83  2050\n",
       "\n",
       "[84 rows x 1 columns]"
      ]
     },
     "execution_count": 3,
     "metadata": {},
     "output_type": "execute_result"
    }
   ],
   "source": [
    "df_x=data.iloc[:,[0]]\n",
    "df_y=data.iloc[:,[1]]\n",
    "df_x"
   ]
  },
  {
   "cell_type": "code",
   "execution_count": 4,
   "metadata": {},
   "outputs": [
    {
     "data": {
      "text/plain": [
       "1664"
      ]
     },
     "execution_count": 4,
     "metadata": {},
     "output_type": "execute_result"
    }
   ],
   "source": [
    "x=df_x.iloc[:,0]\n",
    "x=pd.to_numeric(x)\n",
    "\n",
    "y=df_y.iloc[:,0]\n",
    "y = pd.to_numeric(y)\n",
    "len(x)\n",
    "x[1]"
   ]
  },
  {
   "cell_type": "code",
   "execution_count": 45,
   "metadata": {},
   "outputs": [
    {
     "name": "stdout",
     "output_type": "stream",
     "text": [
      "Length of result list is  1000\n",
      "[0.5749204975780253, 2.1315481772695866, 0.12936652083556374]\n"
     ]
    },
    {
     "data": {
      "text/plain": [
       "[<matplotlib.lines.Line2D at 0x2247865c4c0>]"
      ]
     },
     "execution_count": 45,
     "metadata": {},
     "output_type": "execute_result"
    },
    {
     "data": {
      "image/png": "[encoded data removed]",
      "text/plain": [
       "<Figure size 432x288 with 1 Axes>"
      ]
     },
     "metadata": {
      "needs_background": "light"
     },
     "output_type": "display_data"
    }
   ],
   "source": [
    "def gradient_descent(x,y):\n",
    "    result = []\n",
    "    m = 0 \n",
    "    c = 0\n",
    "    alpha = 0.001\n",
    "    iterations = 1000\n",
    "\n",
    "    for j in range(iterations):\n",
    "        \n",
    "        Total_J = 0\n",
    "        d_m = 0 # accumulate total gradient in m\n",
    "        d_c = 0 # accumulate total gradient in c\n",
    "\n",
    "        for row in range(len(x)): # looping over number of training examples\n",
    "\n",
    "            # hypothesis function\n",
    "            hx = m*x[row]+c\n",
    "            \n",
    "            # cost function \n",
    "            J = ( (hx-y[row])**2 )\n",
    "            Total_J = Total_J + J\n",
    "\n",
    "            d_c = d_c + (hx - y[row])\n",
    "            d_m = d_m + x[row]*(hx - y[row])\n",
    "        \n",
    "        Total_J = Total_J/(2*len(x))\n",
    "        # update m and c \n",
    "        temp0 = c - alpha * (d_c/(len(x)))\n",
    "        temp1 = m - alpha * (d_m/(len(x)))\n",
    "        c = temp0\n",
    "        m = temp1\n",
    "        result.append([Total_J,m,c])\n",
    "\n",
    "    print('Length of result list is ',len(result))\n",
    "    # for i in result:\n",
    "    #     print(i)\n",
    "    return min(result, key=lambda x: x[0])\n",
    "\n",
    "    # return [m,c]\n",
    "X = np.array([i for i in range(11)])\n",
    "Y = np.array([2*i for i in range(11)])\n",
    "for i in range(1,len(Y),3):\n",
    "    Y[i] = Y[i]*1.2\n",
    "ans = gradient_descent(X,Y)\n",
    "print(ans)\n",
    "plt.scatter(X,Y)\n",
    "Y2 = ans[1]*X+ans[2]\n",
    "plt.plot(X,Y2)"
   ]
  },
  {
   "cell_type": "code",
   "execution_count": 37,
   "metadata": {},
   "outputs": [
    {
     "name": "stderr",
     "output_type": "stream",
     "text": [
      "C:\\Users\\ALIRIZ~1\\AppData\\Local\\Temp/ipykernel_10168/3902261874.py:50: UserWarning: Matplotlib is currently using module://matplotlib_inline.backend_inline, which is a non-GUI backend, so cannot show the figure.\n",
      "  f.show()\n",
      "C:\\Users\\ALIRIZ~1\\AppData\\Local\\Temp/ipykernel_10168/3902261874.py:43: RuntimeWarning: overflow encountered in double_scalars\n",
      "  J = (1 / 2*m) * (np.sum(Y_pred - self.Y)**2)\n",
      "C:\\Users\\ALIRIZ~1\\AppData\\Local\\Temp/ipykernel_10168/3902261874.py:18: RuntimeWarning: invalid value encountered in double_scalars\n",
      "  self.b[1] = self.b[1] - (learning_rate * ((1/m) *\n"
     ]
    },
    {
     "name": "stdout",
     "output_type": "stream",
     "text": [
      "100 epochs elapsed\n",
      "Current accuracy is : nan\n",
      "200 epochs elapsed\n",
      "Current accuracy is : nan\n",
      "300 epochs elapsed\n",
      "Current accuracy is : nan\n",
      "400 epochs elapsed\n",
      "Current accuracy is : nan\n",
      "500 epochs elapsed\n",
      "Current accuracy is : nan\n",
      "600 epochs elapsed\n",
      "Current accuracy is : nan\n",
      "700 epochs elapsed\n",
      "Current accuracy is : nan\n",
      "800 epochs elapsed\n",
      "Current accuracy is : nan\n",
      "900 epochs elapsed\n",
      "Current accuracy is : nan\n",
      "1000 epochs elapsed\n",
      "Current accuracy is : nan\n"
     ]
    },
    {
     "name": "stderr",
     "output_type": "stream",
     "text": [
      "C:\\Users\\ALIRIZ~1\\AppData\\Local\\Temp/ipykernel_10168/3902261874.py:50: UserWarning: Matplotlib is currently using module://matplotlib_inline.backend_inline, which is a non-GUI backend, so cannot show the figure.\n",
      "  f.show()\n",
      "C:\\Users\\ALIRIZ~1\\AppData\\Local\\Temp/ipykernel_10168/3902261874.py:91: UserWarning: Matplotlib is currently using module://matplotlib_inline.backend_inline, which is a non-GUI backend, so cannot show the figure.\n",
      "  h.show()\n"
     ]
    },
    {
     "data": {
      "image/png": "[encoded data removed]",
      "text/plain": [
       "<Figure size 432x288 with 1 Axes>"
      ]
     },
     "metadata": {
      "needs_background": "light"
     },
     "output_type": "display_data"
    },
    {
     "data": {
      "image/png": "[encoded data removed]",
      "text/plain": [
       "<Figure size 432x288 with 1 Axes>"
      ]
     },
     "metadata": {
      "needs_background": "light"
     },
     "output_type": "display_data"
    },
    {
     "data": {
      "image/png": "[encoded data removed]",
      "text/plain": [
       "<Figure size 432x288 with 1 Axes>"
      ]
     },
     "metadata": {
      "needs_background": "light"
     },
     "output_type": "display_data"
    }
   ],
   "source": [
    "# Implementation of gradient descent in linear regression\n",
    "import numpy as np\n",
    "import matplotlib.pyplot as plt\n",
    "\n",
    "class Linear_Regression:\n",
    "\tdef __init__(self, X, Y):\n",
    "\t\tself.X = X\n",
    "\t\tself.Y = Y\n",
    "\t\tself.b = [0, 0]\n",
    "\t\n",
    "\tdef update_coeffs(self, learning_rate):\n",
    "\t\tY_pred = self.predict()\n",
    "\t\tY = self.Y\n",
    "\t\tm = len(Y)\n",
    "\t\tself.b[0] = self.b[0] - (learning_rate * ((1/m) *\n",
    "\t\t\t\t\t\t\t\tnp.sum(Y_pred - Y)))\n",
    "\n",
    "\t\tself.b[1] = self.b[1] - (learning_rate * ((1/m) *\n",
    "\t\t\t\t\t\t\t\tnp.sum((Y_pred - Y) * self.X)))\n",
    "\n",
    "\tdef predict(self, X=[]):\n",
    "\t\tY_pred = np.array([])\n",
    "\t\tif not X: X = self.X\n",
    "\t\tb = self.b\n",
    "\t\tfor x in X:\n",
    "\t\t\tY_pred = np.append(Y_pred, b[0] + (b[1] * x))\n",
    "\n",
    "\t\treturn Y_pred\n",
    "\t\n",
    "\tdef get_current_accuracy(self, Y_pred):\n",
    "\t\tp, e = Y_pred, self.Y\n",
    "\t\tn = len(Y_pred)\n",
    "\t\treturn 1-sum(\n",
    "\t\t\t[\n",
    "\t\t\t\tabs(p[i]-e[i])/e[i]\n",
    "\t\t\t\tfor i in range(n)\n",
    "\t\t\t\tif e[i] != 0]\n",
    "\t\t)/n\n",
    "\t#def predict(self, b, yi):\n",
    "\n",
    "\tdef compute_cost(self, Y_pred):\n",
    "\t\tm = len(self.Y)\n",
    "\t\tJ = (1 / 2*m) * (np.sum(Y_pred - self.Y)**2)\n",
    "\t\treturn J\n",
    "\n",
    "\tdef plot_best_fit(self, Y_pred, fig):\n",
    "\t\t\t\tf = plt.figure(fig)\n",
    "\t\t\t\tplt.scatter(self.X, self.Y, color='b')\n",
    "\t\t\t\tplt.plot(self.X, Y_pred, color='g')\n",
    "\t\t\t\tf.show()\n",
    "\n",
    "\n",
    "def main():\n",
    "\tX = np.array([i for i in range(11)])\n",
    "\tY = np.array([2*i for i in range(11)])\n",
    "\n",
    "\tregressor = Linear_Regression(X, Y)\n",
    "\n",
    "\titerations = 0\n",
    "\tsteps = 100\n",
    "\tlearning_rate = 0.01\n",
    "\tcosts = []\n",
    "\t\n",
    "\t#original best-fit line\n",
    "\tY_pred = regressor.predict()\n",
    "\tregressor.plot_best_fit(Y_pred, 'Initial Best Fit Line')\n",
    "\t\n",
    "\n",
    "\twhile iterations<1000:\n",
    "\t\tY_pred = regressor.predict()\n",
    "\t\tcost = regressor.compute_cost(Y_pred)\n",
    "\t\tcosts.append(cost)\n",
    "\t\tregressor.update_coeffs(learning_rate)\n",
    "\t\t\n",
    "\t\titerations += 1\n",
    "\t\tif iterations % steps == 0:\n",
    "\t\t\tprint(iterations, \"epochs elapsed\")\n",
    "\t\t\tprint(\"Current accuracy is :\",\n",
    "\t\t\t\tregressor.get_current_accuracy(Y_pred))\n",
    "\n",
    "\t\t\tstop = input(\"Do you want to stop (y/*)??\")\n",
    "\t\t\tif stop == \"y\":\n",
    "\t\t\t\tbreak\n",
    "\n",
    "\t#final best-fit line\n",
    "\tregressor.plot_best_fit(Y_pred, 'Final Best Fit Line')\n",
    "\n",
    "\t#plot to verify cost function decreases\n",
    "\th = plt.figure('Verification')\n",
    "\tplt.plot(range(iterations), costs, color='b')\n",
    "\th.show()\n",
    "\n",
    "\t# if user wants to predict using the regressor:\n",
    "\tregressor.predict([i for i in range(10)])\n",
    "\n",
    "if __name__ == '__main__':\n",
    "\tmain()\n"
   ]
  }
 ],
 "metadata": {
  "interpreter": {
   "hash": "1c612ca8ef3987bc75488f6b259f55536f1aabbdf9be719e769e9fc57bdd3750"
  },
  "kernelspec": {
   "display_name": "Python 3.8.12 64-bit ('base': conda)",
   "language": "python",
   "name": "python3"
  },
  "language_info": {
   "codemirror_mode": {
    "name": "ipython",
    "version": 3
   },
   "file_extension": ".py",
   "mimetype": "text/x-python",
   "name": "python",
   "nbconvert_exporter": "python",
   "pygments_lexer": "ipython3",
   "version": "3.8.12"
  },
  "orig_nbformat": 4
 },
 "nbformat": 4,
 "nbformat_minor": 2
}
